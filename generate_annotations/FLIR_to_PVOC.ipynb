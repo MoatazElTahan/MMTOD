{
 "cells": [
  {
   "cell_type": "markdown",
   "metadata": {},
   "source": [
    "# FLIR to PASCAL VOC Annotations"
   ]
  },
  {
   "cell_type": "code",
   "execution_count": 1,
   "metadata": {},
   "outputs": [],
   "source": [
    "import os\n",
    "import glob\n",
    "from pathlib import Path\n",
    "import json\n",
    "from tqdm import tqdm"
   ]
  },
  {
   "cell_type": "code",
   "execution_count": 2,
   "metadata": {},
   "outputs": [],
   "source": [
    "files_path = Path('./FLIR_ADAS/train/thermal_8_bit')\n",
    "files = files_path.glob('../*.json')\n",
    "files = list(files)"
   ]
  },
  {
   "cell_type": "code",
   "execution_count": 3,
   "metadata": {},
   "outputs": [],
   "source": [
    "id_to_cat = {'3': 'car', '1': 'person', '2': 'bicycle', '17': 'dog'}"
   ]
  },
  {
   "cell_type": "code",
   "execution_count": 8,
   "metadata": {},
   "outputs": [],
   "source": [
    "files_names = []\n",
    "for each in range(len(files)):\n",
    "    with open(f'{files[each]}') as f:\n",
    "        ann = json.load(f)\n",
    "   \n",
    "    files_names = [ sub['file_name'] for sub in ann[\"images\"] ]"
   ]
  },
  {
   "cell_type": "code",
   "execution_count": 7,
   "metadata": {},
   "outputs": [],
   "source": [
    "with open('flir_train.txt', 'w') as f:\n",
    "    for each in files_names:\n",
    "        f.write(\"%s\\n\" % each)"
   ]
  },
  {
   "cell_type": "code",
   "execution_count": 9,
   "metadata": {},
   "outputs": [],
   "source": [
    "def getXMLAnn(ann, image_num):\n",
    "    st=\"\"\n",
    "    for i,b in enumerate(ann):\n",
    "        \n",
    "        if int(b['image_id']) < image_num:\n",
    "            continue\n",
    "        if int(b['image_id']) > image_num:\n",
    "            return st\n",
    "        \n",
    "        if i == 0:\n",
    "            st += f'\\\n",
    "        <object>\\n \\\n",
    "                <name>{id_to_cat[str(b[\"category_id\"])]}</name>\\n \\\n",
    "                <pose>Frontal</pose>\\n \\\n",
    "                <truncated>0</truncated>\\n \\\n",
    "                <difficult>0</difficult>\\n \\\n",
    "                <occluded>0</occluded>\\n \\\n",
    "                <bndbox>\\n \\\n",
    "                    <xmin>{b[\"bbox\"][0]}</xmin>\\n \\\n",
    "                    <xmax>{int(b[\"bbox\"][0])+int(b[\"bbox\"][2])}</xmax>\\n \\\n",
    "                    <ymin>{b[\"bbox\"][1]}</ymin>\\n \\\n",
    "                    <ymax>{int(b[\"bbox\"][1])+int(b[\"bbox\"][3])}</ymax>\\n \\\n",
    "                </bndbox>\\n \\\n",
    "            </object> \\n'\n",
    "        else:\n",
    "            st += f'\\\n",
    "            <object>\\n \\\n",
    "                <name>{id_to_cat[str(b[\"category_id\"])]}</name>\\n \\\n",
    "                <pose>Frontal</pose>\\n \\\n",
    "                <truncated>0</truncated>\\n \\\n",
    "                <difficult>0</difficult>\\n \\\n",
    "                <occluded>0</occluded>\\n \\\n",
    "                <bndbox>\\n \\\n",
    "                    <xmin>{b[\"bbox\"][0]}</xmin>\\n \\\n",
    "                    <xmax>{int(b[\"bbox\"][0])+int(b[\"bbox\"][2])}</xmax>\\n \\\n",
    "                    <ymin>{b[\"bbox\"][1]}</ymin>\\n \\\n",
    "                    <ymax>{int(b[\"bbox\"][1])+int(b[\"bbox\"][3])}</ymax>\\n \\\n",
    "                </bndbox>\\n \\\n",
    "            </object> \\n'\n",
    "    return st\n",
    "\n",
    "def toXML(ann, image_num):\n",
    "\n",
    "    x = f'\\\n",
    "<annotation>\\n \\\n",
    "    <folder>VOC2007</folder>\\n \\\n",
    "    <filename>{ann[\"images\"][image_num][\"file_name\"]}</filename>\\n \\\n",
    "    <source>\\n \\\n",
    "        <database>The VOC2007 Database</database>\\n \\\n",
    "        <annotation>PASCAL VOC2007</annotation> \\n \\\n",
    "    </source>\\n \\\n",
    "    <size>\\n \\\n",
    "        <width>{ann[\"images\"][image_num][\"width\"]}</width>\\n \\\n",
    "        <height>{ann[\"images\"][image_num][\"height\"]}</height>\\n \\\n",
    "        <depth>3</depth>\\n \\\n",
    "    </size>\\n \\\n",
    "    <segmented>0</segmented>\\n \\\n",
    "    {getXMLAnn(ann[\"annotations\"], image_num)} \\\n",
    "</annotation>\\n'\n",
    "    return x\n"
   ]
  },
  {
   "cell_type": "code",
   "execution_count": 10,
   "metadata": {},
   "outputs": [
    {
     "name": "stderr",
     "output_type": "stream",
     "text": [
      "0it [00:00, ?it/s]\n"
     ]
    }
   ],
   "source": [
    "from tqdm import tqdm\n",
    "for each in tqdm(range(len(files))):\n",
    "    \n",
    "    with open(f'{files[each]}') as f:\n",
    "        ann = json.load(f)\n",
    "        \n",
    "    for image_num in range(len(files_names)):\n",
    "        files_names[image_num] = files_names[image_num].strip('.jpeg')\n",
    "        with open(f'./Annotations_PVOC/{files_names[image_num]}.xml', 'w') as t:\n",
    "            t.write(toXML(ann,image_num))"
   ]
  },
  {
   "cell_type": "markdown",
   "metadata": {},
   "source": [
    "## Validation Data Annotations"
   ]
  },
  {
   "cell_type": "code",
   "execution_count": 11,
   "metadata": {},
   "outputs": [],
   "source": [
    "files_path = Path('./FLIR_ADAS/val/thermal_8_bit')\n",
    "files = files_path.glob('../*.json')\n",
    "files = list(files)"
   ]
  },
  {
   "cell_type": "code",
   "execution_count": 12,
   "metadata": {},
   "outputs": [],
   "source": [
    "files_names = []\n",
    "for each in range(len(files)):\n",
    "    with open(f'{files[each]}') as f:\n",
    "        ann = json.load(f)\n",
    "    files_names = [ sub['file_name'] for sub in ann[\"images\"] ]\n",
    "    \n",
    "with open('flir_valid.txt', 'w') as f:\n",
    "    for each in files_names:\n",
    "        f.write(\"%s\\n\" % each)"
   ]
  },
  {
   "cell_type": "markdown",
   "metadata": {},
   "source": [
    "#### In v1 of the dataset there is a problem in the validation annotations, annotation file name and the file tag inside the annotation do not match. We corrected this mistake before testing our models."
   ]
  },
  {
   "cell_type": "code",
   "execution_count": 191,
   "metadata": {},
   "outputs": [],
   "source": [
    "def getXMLAnn(ann, image_num):\n",
    "    st=\"\"\n",
    "    for i,b in enumerate(ann):\n",
    "        \n",
    "        \n",
    "        if int(b['image_id']) < image_num:\n",
    "            continue\n",
    "        if int(b['image_id']) > image_num:\n",
    "            return st\n",
    "        \n",
    "        if i == 0:\n",
    "            st += f'\\\n",
    "        <object>\\n \\\n",
    "                <name>{id_to_cat[str(b[\"category_id\"])]}</name>\\n \\\n",
    "                <pose>Frontal</pose>\\n \\\n",
    "                <truncated>0</truncated>\\n \\\n",
    "                <difficult>0</difficult>\\n \\\n",
    "                <occluded>0</occluded>\\n \\\n",
    "                <bndbox>\\n \\\n",
    "                    <xmin>{b[\"bbox\"][0]}</xmin>\\n \\\n",
    "                    <xmax>{int(b[\"bbox\"][0])+int(b[\"bbox\"][2])}</xmax>\\n \\\n",
    "                    <ymin>{b[\"bbox\"][1]}</ymin>\\n \\\n",
    "                    <ymax>{int(b[\"bbox\"][1])+int(b[\"bbox\"][3])}</ymax>\\n \\\n",
    "                </bndbox>\\n \\\n",
    "            </object> \\n'\n",
    "        else:\n",
    "            st += f'\\\n",
    "            <object>\\n \\\n",
    "                <name>{id_to_cat[str(b[\"category_id\"])]}</name>\\n \\\n",
    "                <pose>Frontal</pose>\\n \\\n",
    "                <truncated>0</truncated>\\n \\\n",
    "                <difficult>0</difficult>\\n \\\n",
    "                <occluded>0</occluded>\\n \\\n",
    "                <bndbox>\\n \\\n",
    "                    <xmin>{b[\"bbox\"][0]}</xmin>\\n \\\n",
    "                    <xmax>{int(b[\"bbox\"][0])+int(b[\"bbox\"][2])}</xmax>\\n \\\n",
    "                    <ymin>{b[\"bbox\"][1]}</ymin>\\n \\\n",
    "                    <ymax>{int(b[\"bbox\"][1])+int(b[\"bbox\"][3])}</ymax>\\n \\\n",
    "                </bndbox>\\n \\\n",
    "            </object> \\n'\n",
    "    return st\n",
    "\n",
    "def toXML(ann, name, image_num):\n",
    "    x = f'\\\n",
    "<annotation>\\n \\\n",
    "    <folder>VOC2007</folder>\\n \\\n",
    "    <filename>{ann[\"images\"][image_num][\"file_name\"]}</filename>\\n \\\n",
    "    <source>\\n \\\n",
    "        <database>The VOC2007 Database</database>\\n \\\n",
    "        <annotation>PASCAL VOC2007</annotation> \\n \\\n",
    "    </source>\\n \\\n",
    "    <size>\\n \\\n",
    "        <width>{ann[\"images\"][image_num][\"width\"]}</width>\\n \\\n",
    "        <height>{ann[\"images\"][image_num][\"height\"]}</height>\\n \\\n",
    "        <depth>3</depth>\\n \\\n",
    "    </size>\\n \\\n",
    "    <segmented>0</segmented>\\n \\\n",
    "    {getXMLAnn(ann[\"annotations\"], image_num)} \\\n",
    "</annotation>\\n'\n",
    "    return x\n"
   ]
  },
  {
   "cell_type": "code",
   "execution_count": 192,
   "metadata": {},
   "outputs": [
    {
     "name": "stderr",
     "output_type": "stream",
     "text": [
      "\n",
      "\n",
      "\n",
      "\n",
      "\n",
      "\n",
      "\n",
      "\n",
      "  0%|                                                                                                                  | 0/1 [00:00<?, ?it/s]\n",
      "\n",
      "\n",
      "\n",
      "\n",
      "\n",
      "\n",
      "\n",
      "100%|██████████████████████████████████████████████████████████████████████████████████████████████████████████| 1/1 [00:02<00:00,  2.27s/it]"
     ]
    }
   ],
   "source": [
    "from tqdm import tqdm\n",
    "for each in tqdm(range(len(files))):\n",
    "    with open(f'{files[each]}') as f:\n",
    "        ann = json.load(f)\n",
    "    for image_num in range(len(files_names)):\n",
    "        files_names[image_num] = files_names[image_num].strip('.jpeg')\n",
    "        with open(f'./Annotations_PVOC/{files_names[image_num]}.xml', 'w') as t:\n",
    "            t.write(toXML(ann, files[each], image_num))"
   ]
  },
  {
   "cell_type": "code",
   "execution_count": null,
   "metadata": {},
   "outputs": [],
   "source": []
  }
 ],
 "metadata": {
  "kernelspec": {
   "display_name": "Python 3",
   "language": "python",
   "name": "python3"
  },
  "language_info": {
   "codemirror_mode": {
    "name": "ipython",
    "version": 3
   },
   "file_extension": ".py",
   "mimetype": "text/x-python",
   "name": "python",
   "nbconvert_exporter": "python",
   "pygments_lexer": "ipython3",
   "version": "3.7.3"
  }
 },
 "nbformat": 4,
 "nbformat_minor": 2
}
